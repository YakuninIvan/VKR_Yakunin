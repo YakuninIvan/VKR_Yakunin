{
 "cells": [
  {
   "cell_type": "code",
   "execution_count": null,
   "id": "9ab24381-3025-4830-94b9-5c34a3a198f1",
   "metadata": {},
   "outputs": [],
   "source": [
    "from pathlib import Path\n",
    "from random import shuffle\n",
    "from evaluate import load as load_metric\n",
    "from miditok import REMI, TokenizerConfig\n",
    "from miditok.pytorch_data import DatasetMIDI, DataCollator, split_midis_for_training\n",
    "from miditok.data_augmentation import augment_midi_dataset"
   ]
  },
  {
   "cell_type": "code",
   "execution_count": null,
   "id": "7c5b238d-f04f-4784-900d-5d5ba7d0ed18",
   "metadata": {},
   "outputs": [],
   "source": [
    "tokenizer = REMI(params=Path(\"tokenizer.json\"))"
   ]
  },
  {
   "cell_type": "code",
   "execution_count": null,
   "id": "bdcc5351-288b-4f1e-8aa3-ee6b282d74b1",
   "metadata": {},
   "outputs": [],
   "source": [
    "midi_paths = list(Path(\"maestro\").glob(\"**/*.midi\"))\n",
    "\n",
    "# Split MIDI paths in train/valid/test sets\n",
    "total_num_files = len(midi_paths)\n",
    "num_files_valid = round(total_num_files * 0.15)\n",
    "num_files_test = round(total_num_files * 0.15)\n",
    "shuffle(midi_paths)\n",
    "midi_paths_valid = midi_paths[:num_files_valid]\n",
    "midi_paths_test = midi_paths[num_files_valid:num_files_valid + num_files_test]\n",
    "midi_paths_train = midi_paths[num_files_valid + num_files_test:]\n",
    "\n",
    "for files_paths, subset_name in [\n",
    "    (midi_paths_train, \"train\"), (midi_paths_valid, \"valid\"), (midi_paths_test, \"test\")\n",
    "]:\n",
    "\n",
    "    # Split the MIDIs into chunks of sizes 1024 tokens\n",
    "    subset_chunks_dir = Path(f\"Maestro_{subset_name}\")\n",
    "    split_midis_for_training(\n",
    "        files_paths=files_paths,\n",
    "        tokenizer=tokenizer,\n",
    "        save_dir=subset_chunks_dir,\n",
    "        max_seq_len=1024,\n",
    "        num_overlap_bars=2,\n",
    "    )\n",
    "\n",
    "    #data augmentation\n",
    "    augment_midi_dataset(\n",
    "        subset_chunks_dir,\n",
    "        pitch_offsets=[-12, 12],\n",
    "        velocity_offsets=[-4, 4],\n",
    "        duration_offsets=[-0.5, 0.5],\n",
    "    )"
   ]
  },
  {
   "cell_type": "code",
   "execution_count": null,
   "id": "ba5a2ca8-697d-4679-9fd4-7072f000bbf7",
   "metadata": {},
   "outputs": [],
   "source": []
  }
 ],
 "metadata": {
  "kernelspec": {
   "display_name": "Python 3 (ipykernel)",
   "language": "python",
   "name": "python3"
  },
  "language_info": {
   "codemirror_mode": {
    "name": "ipython",
    "version": 3
   },
   "file_extension": ".py",
   "mimetype": "text/x-python",
   "name": "python",
   "nbconvert_exporter": "python",
   "pygments_lexer": "ipython3",
   "version": "3.12.1"
  }
 },
 "nbformat": 4,
 "nbformat_minor": 5
}
