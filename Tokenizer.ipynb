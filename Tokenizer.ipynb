{
 "cells": [
  {
   "cell_type": "code",
   "execution_count": 1,
   "id": "830d5c41-0a9c-4afd-bd96-a9ca312248af",
   "metadata": {},
   "outputs": [],
   "source": [
    "from pathlib import Path\n",
    "from random import shuffle\n",
    "from evaluate import load as load_metric\n",
    "from miditok import REMI, TokenizerConfig\n",
    "from miditok.pytorch_data import DatasetMIDI, DataCollator, split_midis_for_training\n",
    "from miditok.data_augmentation import augment_midi_dataset"
   ]
  },
  {
   "cell_type": "code",
   "execution_count": null,
   "id": "1184a971-5936-4851-9562-794aaf91e21f",
   "metadata": {},
   "outputs": [],
   "source": [
    "# # config = TokenizerConfig(num_velocities=16, use_chords=True, use_programs=True)\n",
    "# # tokenizer = REMI(config)"
   ]
  },
  {
   "cell_type": "code",
   "execution_count": 5,
   "id": "db4435fc-ce50-4fc4-9e1c-84588b23f304",
   "metadata": {},
   "outputs": [],
   "source": [
    "# # pitch_range = tuple([21, 109])\n",
    "# # beat_res = {(0, 4): 8, (4, 12): 4}\n",
    "# # num_velocities = 32\n",
    "# # additional_tokens = {'Chord': True, \n",
    "# #                      'Rest': True, \n",
    "# #                      'Tempo': True,\n",
    "# #                      'rest_range': (2, 8),  # (half, 8 beats)\n",
    "# #                      'num_tempos': 32,  # num of tempo bins\n",
    "# #                      'tempo_range': (40, 250), # (min, max)\n",
    "# #                      \"special_tokens\": [\"PAD\", \"BOS\", \"EOS\"],\n",
    "# #                      'Program': False}\n",
    "\n",
    "# # config = TokenizerConfig(pitch_range, beat_res, num_velocities, additional_tokens)\n",
    "\n",
    "BEAT_RES = {(0, 4): 8, (4, 12): 4}\n",
    "TOKENIZER_PARAMS = {\n",
    "    \"pitch_range\": (21, 109),\n",
    "    \"beat_res\": BEAT_RES,\n",
    "    \"num_velocities\": 32,\n",
    "    \"special_tokens\": [\"PAD\", \"BOS\", \"EOS\"],\n",
    "    \"use_chords\": True,\n",
    "    \"use_rests\": True,\n",
    "    \"use_tempos\": True,\n",
    "    \"use_time_signatures\": True,\n",
    "    \"use_programs\": False,  # no multitrack here\n",
    "    \"num_tempos\": 32,\n",
    "    \"tempo_range\": (40, 250),\n",
    "}\n",
    "config = TokenizerConfig(**TOKENIZER_PARAMS)\n",
    "tokenizer = REMI(config) # REMI encoding"
   ]
  },
  {
   "cell_type": "code",
   "execution_count": 6,
   "id": "07ffd73b-907e-4c21-afeb-d284c5c846ca",
   "metadata": {},
   "outputs": [
    {
     "name": "stdout",
     "output_type": "stream",
     "text": [
      "432\n"
     ]
    }
   ],
   "source": [
    "print(len(tokenizer))"
   ]
  },
  {
   "cell_type": "code",
   "execution_count": null,
   "id": "5320b3d9-a919-4795-b854-2ad9a6c20901",
   "metadata": {},
   "outputs": [
    {
     "name": "stdout",
     "output_type": "stream",
     "text": [
      "1276\n"
     ]
    }
   ],
   "source": [
    "# Train tokenizer\n",
    "midi_paths = list(Path(\"maestro\").glob(\"**/*.midi\"))\n",
    "print(len(midi_paths))\n",
    "\n",
    "tokenizer.learn_bpe(\n",
    "    vocab_size=30000,\n",
    "    files_paths=midi_paths,\n",
    "    start_from_empty_voc=False,\n",
    ")\n",
    "\n",
    "tokenizer.save_params(\"tokenizer.json\")"
   ]
  },
  {
   "cell_type": "code",
   "execution_count": null,
   "id": "d18c6246-b349-48fc-9d20-1fead4d67167",
   "metadata": {},
   "outputs": [],
   "source": []
  }
 ],
 "metadata": {
  "kernelspec": {
   "display_name": "Python 3 (ipykernel)",
   "language": "python",
   "name": "python3"
  },
  "language_info": {
   "codemirror_mode": {
    "name": "ipython",
    "version": 3
   },
   "file_extension": ".py",
   "mimetype": "text/x-python",
   "name": "python",
   "nbconvert_exporter": "python",
   "pygments_lexer": "ipython3",
   "version": "3.12.1"
  }
 },
 "nbformat": 4,
 "nbformat_minor": 5
}
